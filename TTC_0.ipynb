{
 "cells": [
  {
   "cell_type": "markdown",
   "id": "6f17712e",
   "metadata": {},
   "source": [
    "# TTC for House Allocation (Hylland and Zeckhauser, 1979)\n",
    "\n",
    "In this market none of the individuals owns a house as endowment (as opposed to the housing market of Shapley and Scarf, 1974), so all of the houses are free to be assigned. \n",
    "\n",
    "In this note, we will focus on one to one case so that each house is assigned to at most one individual.\n",
    "\n",
    "Each individual have a strict preference ordering over the houses. \n",
    "\n",
    "There is a strict priority ordering of individual at each house. \n",
    "\n",
    "You will find the introductory example of the implementation of TTC in this market. "
   ]
  },
  {
   "cell_type": "code",
   "execution_count": 2,
   "id": "82ae54d1",
   "metadata": {},
   "outputs": [],
   "source": [
    "# Import the libraries needed\n",
    "import networkx as nx\n",
    "import matplotlib.pyplot as plt\n",
    "from itertools import product\n",
    "import copy\n",
    "import random"
   ]
  },
  {
   "cell_type": "markdown",
   "id": "f6e0c52e",
   "metadata": {},
   "source": [
    "## Creating Preferences and Priorities Randomly\n",
    "\n",
    "I use odd indexes for individuals and even indexes for houses for ease of exposition."
   ]
  },
  {
   "cell_type": "code",
   "execution_count": 22,
   "id": "3d059d86",
   "metadata": {},
   "outputs": [],
   "source": [
    "# Generate a list of odd integers from 1 to 9\n",
    "odd_integers = [i for i in range(1, 10, 2)]\n",
    "\n",
    "# Shuffle the list to make it random\n",
    "random.shuffle(odd_integers)\n",
    "\n",
    "# Generate a list of even integers from 2 to 4\n",
    "even_integers = [i for i in range(2, 8, 2)]\n",
    "\n",
    "# Shuffle the list to make it random\n",
    "random.shuffle(even_integers)\n",
    "random.shuffle(even_integers)"
   ]
  },
  {
   "cell_type": "code",
   "execution_count": 23,
   "id": "943dc131",
   "metadata": {},
   "outputs": [
    {
     "name": "stdout",
     "output_type": "stream",
     "text": [
      "{3: [4, 2, 6], 1: [6, 2, 4], 5: [2, 4, 6], 7: [2, 4, 6], 9: [6, 4, 2], 6: [9, 1, 5, 7, 3], 4: [1, 5, 9, 7, 3], 2: [3, 1, 7, 5, 9]}\n"
     ]
    }
   ],
   "source": [
    "#Creating preferences and priorites\n",
    "\n",
    "agents=odd_integers\n",
    "houses=even_integers\n",
    "\n",
    "pref={}\n",
    "for i in agents:\n",
    "    random.shuffle(houses)\n",
    "    pref[i]=list(houses)\n",
    "    \n",
    "priority={}\n",
    "for j in houses:\n",
    "    random.shuffle(agents)\n",
    "    priority[j]=list(agents)\n",
    "\n",
    "pref_all= {**pref, **priority}\n",
    "\n",
    "top_all={}\n",
    "for k in pref_all.keys():\n",
    "    top_all[k]=pref_all[k][0]\n",
    "    \n",
    "print(pref_all)"
   ]
  },
  {
   "cell_type": "markdown",
   "id": "d1a54b2f",
   "metadata": {},
   "source": [
    "## TTC under the Random Economy Fixed Above\n",
    "\n",
    "First, we will create the TTC function. In this note, TTC function plots the graphs at each iteration for illustrative purposes. The function will return a matching as a dictionary object mapping from houses to individuals. "
   ]
  },
  {
   "cell_type": "code",
   "execution_count": 26,
   "id": "f37a9a3a",
   "metadata": {},
   "outputs": [],
   "source": [
    "def ttc(pref, priority):\n",
    " \n",
    "    pref1=copy.deepcopy(pref)\n",
    "    priority1=copy.deepcopy(priority)\n",
    "    \n",
    "    agents=list(pref.keys())\n",
    "    houses=list(priority.keys())\n",
    "    \n",
    "    matching={}\n",
    "    for j in houses:\n",
    "        matching[j]=[]\n",
    "    t=1\n",
    "    while len(houses)>0 and len(agents):        \n",
    "        \n",
    "        print(\"STEP \", t)   \n",
    "\n",
    "        pref_all={**pref1, **priority1}   \n",
    "\n",
    "        top_all={}\n",
    "        for k in pref_all.keys():\n",
    "            top_all[k]=pref_all[k][0]\n",
    "\n",
    "        di_edges = [(key,values) for key, values in top_all.items()]\n",
    "\n",
    "        G = nx.DiGraph()\n",
    "        G.add_edges_from(di_edges)  # This creates a cycle\n",
    "\n",
    "\n",
    "        # Generate positions for all nodes\n",
    "        pos = nx.spring_layout(G)\n",
    "\n",
    "        # Separate nodes into odd and even\n",
    "        odd_nodes = [node for node in G.nodes() if node % 2 != 0]\n",
    "        even_nodes = [node for node in G.nodes() if node % 2 == 0]\n",
    "\n",
    "        # Draw odd nodes\n",
    "        nx.draw_networkx_nodes(G, pos, nodelist=odd_nodes, node_color='lightgrey', label='Odd Nodes')\n",
    "\n",
    "        # Draw even nodes\n",
    "        nx.draw_networkx_nodes(G, pos, nodelist=even_nodes, node_color='skyblue', label='Even Nodes')\n",
    "\n",
    "        # Draw edges and labels\n",
    "        nx.draw_networkx_edges(G, pos, connectionstyle='arc3,rad=0.2')\n",
    "        nx.draw_networkx_labels(G, pos)\n",
    "\n",
    "\n",
    "        # Display the graph\n",
    "        plt.show()\n",
    "\n",
    "        # Find a cycle in top graph\n",
    "        top_cycle = nx.find_cycle(G, orientation='original')\n",
    "\n",
    "        # Extract the nodes and edges in the cycle\n",
    "        top_cycle_edges = [(u, v) for u, v, d in top_cycle]\n",
    "        top_cycle_nodes = set([u for u, v in top_cycle_edges] + [v for u, v in top_cycle_edges])\n",
    "        \n",
    "        for edge in top_cycle_edges:\n",
    "            if edge[1] % 2 == 0:\n",
    "                matching[edge[1]].append(edge[0])\n",
    "        print()\n",
    "        print(\"Cycle: \", top_cycle_nodes)\n",
    "\n",
    "        # Removing tops from the economy\n",
    "\n",
    "\n",
    "        for i in top_cycle_nodes:\n",
    "            if i % 2 != 0: \n",
    "                del pref1[i]\n",
    "                for j in priority1:\n",
    "                    priority1[j].remove(i)\n",
    "            if i % 2 == 0: \n",
    "                del priority1[i]\n",
    "                for j in pref1:\n",
    "                    pref1[j].remove(i)\n",
    "\n",
    "        houses=list(priority1.keys())\n",
    "        agents=list(pref1.keys())\n",
    "        \n",
    "        t=t+1\n",
    "        \n",
    "    print(\"Outcome: \", matching)\n",
    "    return matching"
   ]
  },
  {
   "cell_type": "code",
   "execution_count": 27,
   "id": "3b774bbb",
   "metadata": {},
   "outputs": [
    {
     "name": "stdout",
     "output_type": "stream",
     "text": [
      "Individual Preferences:  {3: [4, 2, 6], 1: [6, 2, 4], 5: [2, 4, 6], 7: [2, 4, 6], 9: [6, 4, 2]}\n",
      "\n",
      "Priorities:  {6: [9, 1, 5, 7, 3], 4: [1, 5, 9, 7, 3], 2: [3, 1, 7, 5, 9]}\n",
      "\n",
      "STEP  1\n"
     ]
    },
    {
     "data": {
      "image/png": "[encoded data removed]",
      "text/plain": [
       "<Figure size 640x480 with 1 Axes>"
      ]
     },
     "metadata": {},
     "output_type": "display_data"
    },
    {
     "name": "stdout",
     "output_type": "stream",
     "text": [
      "\n",
      "Cycle:  {9, 6}\n",
      "STEP  2\n"
     ]
    },
    {
     "data": {
      "image/png": "[encoded data removed]",
      "text/plain": [
       "<Figure size 640x480 with 1 Axes>"
      ]
     },
     "metadata": {},
     "output_type": "display_data"
    },
    {
     "name": "stdout",
     "output_type": "stream",
     "text": [
      "\n",
      "Cycle:  {1, 2, 3, 4}\n",
      "Outcome:  {6: [9], 4: [3], 2: [1]}\n"
     ]
    },
    {
     "data": {
      "text/plain": [
       "{6: [9], 4: [3], 2: [1]}"
      ]
     },
     "execution_count": 27,
     "metadata": {},
     "output_type": "execute_result"
    }
   ],
   "source": [
    "# Since we already created the preferences and priorities we are ready to run the algorithm\n",
    "print('Individual Preferences: ', pref)\n",
    "print()\n",
    "print('Priorities: ', priority)\n",
    "print()\n",
    "\n",
    "ttc(pref,priority)"
   ]
  },
  {
   "cell_type": "code",
   "execution_count": null,
   "id": "566b90c7",
   "metadata": {},
   "outputs": [],
   "source": []
  }
 ],
 "metadata": {
  "kernelspec": {
   "display_name": "Python 3 (ipykernel)",
   "language": "python",
   "name": "python3"
  },
  "language_info": {
   "codemirror_mode": {
    "name": "ipython",
    "version": 3
   },
   "file_extension": ".py",
   "mimetype": "text/x-python",
   "name": "python",
   "nbconvert_exporter": "python",
   "pygments_lexer": "ipython3",
   "version": "3.11.5"
  }
 },
 "nbformat": 4,
 "nbformat_minor": 5
}
