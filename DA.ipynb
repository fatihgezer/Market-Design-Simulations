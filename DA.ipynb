{
 "cells": [
  {
   "cell_type": "code",
   "execution_count": 2,
   "id": "7de4b09e",
   "metadata": {},
   "outputs": [],
   "source": [
    "%matplotlib inline\n",
    "import pandas as pd\n",
    "import numpy as np\n",
    "import copy\n",
    "import random\n",
    "import math\n",
    "import operator\n",
    "import seaborn as sns\n",
    "from fractions import Fraction"
   ]
  },
  {
   "cell_type": "markdown",
   "id": "76f9227f",
   "metadata": {},
   "source": [
    "# Deferred Acceptance Algorithm\n",
    "\n",
    "The algorithm has been proposed by Gale and Shapley (1962) The Algorithm below is written for more general cases of many-to-many matching. Many-to-many matching contains many-to-one and one-to-one matching. All you need to change the quotas vector i.g. vector of ones for one to one matchings."
   ]
  },
  {
   "cell_type": "code",
   "execution_count": null,
   "id": "56e54de7",
   "metadata": {},
   "outputs": [],
   "source": [
    "Below you will find the code "
   ]
  },
  {
   "cell_type": "code",
   "execution_count": 37,
   "id": "a44a7e77",
   "metadata": {},
   "outputs": [],
   "source": [
    "def dast(preferences_st, preferences_sc, quota_st, quota_sc):\n",
    "    students = sorted(preferences_st.keys())\n",
    "    schools = sorted(preferences_sc.keys())\n",
    "    students_free=[]\n",
    "    for i in students:\n",
    "        for j in range(0,quota_st[i]):\n",
    "            students_free.append(i)\n",
    "    matched={}\n",
    "    \n",
    "    student_preferences2= copy.deepcopy(preferences_st) \n",
    "    school_preferences2= copy.deepcopy(preferences_sc)  \n",
    "    while students_free:\n",
    "        s = students_free.pop(0)\n",
    "        s_list = student_preferences2[s]\n",
    "        #s_list\n",
    "        if s_list:\n",
    "            sc = s_list.pop(0)\n",
    "            temp = matched.get(sc)\n",
    "            print('agent', s, 'proposed to person', sc)\n",
    "            if not temp:\n",
    "                matched[sc]=[]\n",
    "                matched[sc].append(s)\n",
    "                print( 'person', sc , 'accepted', s)\n",
    "            elif len(temp) < quota_sc[sc]:\n",
    "                matched[sc].append(s)\n",
    "                print( 'person', sc , 'accepted', s)\n",
    "            elif len(temp)== quota_sc[sc]:\n",
    "                sc_list=school_preferences2[sc]\n",
    "                st_min_insc= max (temp, key=preferences_sc[sc].index)\n",
    "                if sc_list.index(st_min_insc) > sc_list.index(s):\n",
    "                    print('agent',st_min_insc, 'is dumped by person', sc, 'to accept agent', s )\n",
    "                    matched[sc][matched[sc].index(st_min_insc)]=s\n",
    "                    if student_preferences2[st_min_insc]:\n",
    "                        students_free.append(st_min_insc)\n",
    "                else:\n",
    "                    print('person', sc , 'rejected', s)\n",
    "                    if s_list:\n",
    "                        students_free.append(s)\n",
    "        print('-----------Next Step-----------')\n",
    "        print()\n",
    "    print('End of the Algorithm')\n",
    "    return matched"
   ]
  },
  {
   "cell_type": "markdown",
   "id": "34422862",
   "metadata": {},
   "source": [
    "## One-to-one Matching Example"
   ]
  },
  {
   "cell_type": "markdown",
   "id": "f3a929b9",
   "metadata": {},
   "source": [
    "First, we need to have an economy, so we will create a set of men with strict preferences over women and a set of women with strict preferences over men. For accessibility, let denote the men with odd numbers and women with even numbers. "
   ]
  },
  {
   "cell_type": "code",
   "execution_count": 18,
   "id": "57482232",
   "metadata": {},
   "outputs": [
    {
     "name": "stdout",
     "output_type": "stream",
     "text": [
      "men preferences:  {1: [6, 2, 4], 3: [4, 2, 6], 5: [6, 2, 4]}\n",
      "------\n",
      "women preferences: {6: [5, 3, 1], 2: [3, 5, 1], 4: [1, 3, 5]}\n"
     ]
    }
   ],
   "source": [
    "men=[i for i in range(1, 7, 2)] # Men are indexed as 1,3,5\n",
    "women=[i for i in range(2, 8, 2)] # Women are indexed as 2,4,6\n",
    "\n",
    "pref_men={}\n",
    "pref_women={}\n",
    "\n",
    "for i in men:\n",
    "    random.shuffle(women)\n",
    "    pref_men[i]=list(women)\n",
    "\n",
    "\n",
    "for j in women:\n",
    "    random.shuffle(men)\n",
    "    pref_women[j]=list(men)\n",
    "    \n",
    "print(\"men preferences: \" , pref_men)\n",
    "print(\"------\")\n",
    "print(\"women preferences:\" , pref_women)"
   ]
  },
  {
   "cell_type": "markdown",
   "id": "0e790a40",
   "metadata": {},
   "source": [
    "### Finding Men-optimal Stable Matching\n",
    "\n",
    "We will use the function dast(preferences_st, preferences_sc, quota_st, quota_sc) where:\n",
    "\n",
    "preferences_st: Proposing side preferences. Format is {m1: ordered_list_of_women , m2: ordered_list_of_women, ...}\n",
    "preferences_sc: Proposed side preferences. Format is {w1: ordered_list_of_men , w2: ordered_list_of_men, ...}\n",
    "\n",
    "quota_st: Matching capacity of each men. Format is {m1: capacity_of_m1 , m2: capacit_of_m2, ...}\n",
    "quota_sc: Matching capacity of each women. Format is {w1: capacity_of_w1 , w2: capacit_of_w2, ...}\n",
    "\n",
    "\n",
    "!!! And the outcome will be in the form of women-to-men matching:\n",
    "\n",
    "Matching={w:m, w':m', ...}"
   ]
  },
  {
   "cell_type": "code",
   "execution_count": 21,
   "id": "fa302e08",
   "metadata": {},
   "outputs": [
    {
     "name": "stdout",
     "output_type": "stream",
     "text": [
      "{2: 1, 4: 1, 6: 1}\n"
     ]
    }
   ],
   "source": [
    "# Let's define the quota vectors for one to one matching: \n",
    "quota_men={}\n",
    "quota_women={}\n",
    "\n",
    "for i in range(1,7): \n",
    "    if i % 2 != 0:\n",
    "        quota_men[i]=1\n",
    "    if i % 2 == 0:\n",
    "        quota_women[i]=1"
   ]
  },
  {
   "cell_type": "code",
   "execution_count": 38,
   "id": "1e311af7",
   "metadata": {},
   "outputs": [
    {
     "name": "stdout",
     "output_type": "stream",
     "text": [
      "agent 1 proposed to person 6\n",
      "person 6 accepted 1\n",
      "-----------Next Step-----------\n",
      "\n",
      "agent 3 proposed to person 4\n",
      "person 4 accepted 3\n",
      "-----------Next Step-----------\n",
      "\n",
      "agent 5 proposed to person 6\n",
      "agent 1 is dumped by person 6 to accept agent 5\n",
      "-----------Next Step-----------\n",
      "\n",
      "agent 1 proposed to person 2\n",
      "person 2 accepted 1\n",
      "-----------Next Step-----------\n",
      "\n",
      "End of the Algorithm\n"
     ]
    },
    {
     "data": {
      "text/plain": [
       "{6: [5], 4: [3], 2: [1]}"
      ]
     },
     "execution_count": 38,
     "metadata": {},
     "output_type": "execute_result"
    }
   ],
   "source": [
    "# We have everything to run the DA\n",
    "\n",
    "dast(pref_men, pref_women, quota_men, quota_women)"
   ]
  }
 ],
 "metadata": {
  "kernelspec": {
   "display_name": "Python 3 (ipykernel)",
   "language": "python",
   "name": "python3"
  },
  "language_info": {
   "codemirror_mode": {
    "name": "ipython",
    "version": 3
   },
   "file_extension": ".py",
   "mimetype": "text/x-python",
   "name": "python",
   "nbconvert_exporter": "python",
   "pygments_lexer": "ipython3",
   "version": "3.11.5"
  }
 },
 "nbformat": 4,
 "nbformat_minor": 5
}
